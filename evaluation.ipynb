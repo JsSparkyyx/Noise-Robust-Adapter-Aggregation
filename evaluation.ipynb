{
 "cells": [
  {
   "cell_type": "code",
   "execution_count": 21,
   "metadata": {},
   "outputs": [],
   "source": [
    "from transformers import (\n",
    "    AutoModelForSeq2SeqLM,\n",
    "    AutoTokenizer,\n",
    "    DataCollatorForSeq2Seq,\n",
    "    Seq2SeqTrainer,\n",
    "    Seq2SeqTrainingArguments\n",
    ")\n",
    "from evaluate import evaluator\n",
    "import evaluate\n",
    "from peft import LoraConfig, get_peft_model, PeftConfig\n",
    "from datasets import DatasetDict, load_dataset\n",
    "import numpy as np\n",
    "from init_parameters import init_parameters\n",
    "from data import split_data, set_seed, k_split\n",
    "import torch\n",
    "import random"
   ]
  },
  {
   "cell_type": "code",
   "execution_count": 37,
   "metadata": {},
   "outputs": [],
   "source": [
    "data_name = 'glue'\n",
    "task = 'mnli'\n",
    "seed = 42\n",
    "num_clients = 10\n",
    "num_error_clients = 2\n",
    "model_name_or_path = 'google/flan-t5-base'\n",
    "metric = evaluate.load(\"sacrebleu\")\n",
    "tokenizer = AutoTokenizer.from_pretrained(model_name_or_path)\n",
    "set_seed(seed)\n",
    "dataset = load_dataset(\"JsSparkYyx/NLP524\", task).shuffle(seed=seed)"
   ]
  },
  {
   "cell_type": "code",
   "execution_count": 47,
   "metadata": {},
   "outputs": [],
   "source": [
    "train_ds = k_split(num_clients,num_error_clients,dataset['train'])\n",
    "test_ds = k_split(num_clients,num_error_clients,dataset['test'])\n",
    "valid_ds = k_split(num_clients,num_error_clients,dataset['valid'])\n",
    "i = 1\n",
    "dataset = DatasetDict({'train':train_ds[i],'test':test_ds[i],'valid':valid_ds[i]})"
   ]
  },
  {
   "cell_type": "code",
   "execution_count": 45,
   "metadata": {},
   "outputs": [
    {
     "data": {
      "application/vnd.jupyter.widget-view+json": {
       "model_id": "335003a7073f4a85ac47d81216b74fa0",
       "version_major": 2,
       "version_minor": 0
      },
      "text/plain": [
       "Map:   0%|          | 0/39271 [00:00<?, ? examples/s]"
      ]
     },
     "metadata": {},
     "output_type": "display_data"
    }
   ],
   "source": [
    "def tokenize_function(examples):\n",
    "    # max_length=None => use the model max length (it's actually the default)\n",
    "    model_inputs = tokenizer(examples['source'], truncation=True, max_length=None)\n",
    "    model_inputs['labels'] = tokenizer(examples['target'], truncation=True, max_length=None)[\"input_ids\"]\n",
    "    return model_inputs\n",
    "tokenized_datasets = dataset.map(tokenize_function, batched=True, remove_columns=dataset['train'].column_names)"
   ]
  },
  {
   "cell_type": "code",
   "execution_count": 41,
   "metadata": {},
   "outputs": [],
   "source": [
    "model = AutoModelForSeq2SeqLM.from_pretrained(model_name_or_path, return_dict=True)\n",
    "config = PeftConfig.from_pretrained(r'D:\\Code\\WashU\\NLP524Final\\flan-t5-base-finetuned-lora-mnli-0\\checkpoint-1228')\n",
    "model_name = model_name_or_path.split(\"/\")[-1]\n",
    "model = AutoModelForSeq2SeqLM.from_pretrained(model_name_or_path, return_dict=True)\n",
    "lora_model = get_peft_model(model, config)"
   ]
  },
  {
   "cell_type": "code",
   "execution_count": null,
   "metadata": {},
   "outputs": [],
   "source": []
  },
  {
   "cell_type": "code",
   "execution_count": 54,
   "metadata": {},
   "outputs": [
    {
     "name": "stderr",
     "output_type": "stream",
     "text": [
      "d:\\Software\\anaconda3\\envs\\LLM\\lib\\site-packages\\transformers\\tokenization_utils_base.py:2632: UserWarning: `max_length` is ignored when `padding`=`True` and there is no truncation strategy. To pad to max length, use `padding='max_length'`.\n",
      "  warnings.warn(\n"
     ]
    }
   ],
   "source": [
    "\n",
    "\n",
    "def accuracy_score(outputs, ground_truths):\n",
    "    correct = 0\n",
    "    total = 0\n",
    "    for output, truth in zip(outputs, ground_truths):\n",
    "        if output.strip().lower().replace(\".\", \"\") == truth.strip().lower().replace(\".\", \"\"):\n",
    "            correct += 1\n",
    "        total += 1\n",
    "    return correct / total * 100\n",
    "\n",
    "example_predictions = []\n",
    "example_predictions_lora = []\n",
    "# load model\n",
    "\n",
    "# use gpu if available\n",
    "batch_size = 64\n",
    "device = \"cuda\" if torch.cuda.is_available() else \"cpu\"\n",
    "model = model.to(device)\n",
    "\n",
    "for i in range(0, len(dataset[\"test\"][\"source\"]), batch_size):\n",
    "    inputs = tokenizer(\n",
    "            dataset[\"test\"][\"source\"][i : i + batch_size],\n",
    "            max_length=2048,\n",
    "            return_tensors=\"pt\",\n",
    "            padding=True,\n",
    "        ).to(device)\n",
    "    outputs = model.generate(\n",
    "        input_ids=inputs[\"input_ids\"], max_new_tokens=256\n",
    "    )\n",
    "    outputs = tokenizer.batch_decode(\n",
    "        outputs.to(\"cpu\"), skip_special_tokens=True\n",
    "    )\n",
    "    example_predictions.extend(outputs)\n",
    "    outputs = lora_model.generate(\n",
    "        input_ids=inputs[\"input_ids\"], max_new_tokens=256\n",
    "    )\n",
    "    outputs = tokenizer.batch_decode(\n",
    "        outputs.to(\"cpu\"), skip_special_tokens=True\n",
    "    )\n",
    "    example_predictions_lora.extend(outputs)\n",
    "\n",
    "task_perf = accuracy_score(example_predictions, dataset[\"test\"][\"target\"])\n",
    "task_perf_lora = accuracy_score(example_predictions_lora, dataset[\"test\"][\"target\"])"
   ]
  },
  {
   "cell_type": "code",
   "execution_count": 55,
   "metadata": {},
   "outputs": [
    {
     "data": {
      "text/plain": [
       "(29.949238578680205, 29.949238578680205)"
      ]
     },
     "execution_count": 55,
     "metadata": {},
     "output_type": "execute_result"
    }
   ],
   "source": [
    "task_perf,task_perf_lora"
   ]
  },
  {
   "cell_type": "code",
   "execution_count": null,
   "metadata": {},
   "outputs": [],
   "source": []
  }
 ],
 "metadata": {
  "kernelspec": {
   "display_name": "LLM",
   "language": "python",
   "name": "python3"
  },
  "language_info": {
   "codemirror_mode": {
    "name": "ipython",
    "version": 3
   },
   "file_extension": ".py",
   "mimetype": "text/x-python",
   "name": "python",
   "nbconvert_exporter": "python",
   "pygments_lexer": "ipython3",
   "version": "3.10.13"
  }
 },
 "nbformat": 4,
 "nbformat_minor": 2
}
