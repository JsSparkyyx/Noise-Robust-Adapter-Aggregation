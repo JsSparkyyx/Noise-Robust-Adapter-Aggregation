{
 "cells": [
  {
   "cell_type": "code",
   "execution_count": 1,
   "id": "7ca771fe",
   "metadata": {},
   "outputs": [],
   "source": [
    "import os\n",
    "import pandas as pd"
   ]
  },
  {
   "cell_type": "code",
   "execution_count": 2,
   "id": "690ed3a0",
   "metadata": {},
   "outputs": [],
   "source": [
    "bigbench_path = \"results/bigbench/\"\n",
    "glue_path = \"results/glue/\"\n",
    "\n",
    "tasks_bigbench = ['elementary_math_qa','cryptonite','intersect_geometry','list_functions', 'tracking_shuffled_objects']\n",
    "tasks_glue = ['mnli','qnli','sst2','qqp']\n"
   ]
  },
  {
   "cell_type": "code",
   "execution_count": 3,
   "id": "ac6c8c8b",
   "metadata": {},
   "outputs": [],
   "source": [
    "\n",
    "def get_results_csv(path):\n",
    "    avg = path + \"_avg.csv\"\n",
    "    cv = path + \"_cv.csv\"\n",
    "    cv_weights = path + \"_cv_weights.csv\"\n",
    "    lorahub = path + \"_lorahub.csv\"\n",
    "    lorahub_weights = path + \"_lorahub_weights.csv\"\n",
    "    single = path + \"_single.csv\"\n",
    "    files = [avg, cv, cv_weights, lorahub, lorahub_weights, single]\n",
    "    results = []\n",
    "    for file in files:\n",
    "        result = pd.read_csv(file)\n",
    "        results.append(result)\n",
    "    return results\n"
   ]
  },
  {
   "cell_type": "code",
   "execution_count": 4,
   "id": "d21d70c9",
   "metadata": {},
   "outputs": [
    {
     "name": "stdout",
     "output_type": "stream",
     "text": [
      "   3.312977099236641720e+01\n",
      "0                 32.620865\n",
      "1                 32.722646\n",
      "2                 85.801527\n",
      "3                 84.274809\n",
      "4                 83.867684\n",
      "5                 84.885496\n",
      "6                 84.368635\n",
      "7                 84.012220\n",
      "8                 86.456212\n",
      "9                 69.213987\n"
     ]
    }
   ],
   "source": [
    "\n",
    "results_on_glue = []\n",
    "for task in tasks_glue:\n",
    "    results_on_glue.append(get_results_csv(glue_path + task))\n",
    "\n",
    "print(results_on_glue[0][0])"
   ]
  },
  {
   "cell_type": "code",
   "execution_count": 5,
   "id": "fb16b71a",
   "metadata": {},
   "outputs": [],
   "source": [
    "# NAAR, AVG and CV performance on different datasets\n",
    "Task = ['MultiNLI', 'Question NLI', 'Stanford Sentiment Treebank', 'Quora Question Pairs', 'Elementary Math QA', 'Cryptonite', 'Intersect Geometry', 'List Functions', 'Tracking Shuffled Objects']\n",
    "Single = [85.16, 92.07, 94.41, 86.87, 30.37, 0.76, 24.14, 5.08, 18.85]\n",
    "AVG = [84.80, 91.70, 92.77, 85.73, 26.40, 0.27, 15.18, 4.94, 19.04]\n",
    "CV = [84.96, 92.15, 93.26, 85.74, 27.47, 0.40, 20.88, 5.01, 21.71]\n",
    "NAAR = [85.09, 91.88, 94.25, 81.90, 28.42, 0.35, 18.61, 4.39, 21.33]"
   ]
  },
  {
   "cell_type": "code",
   "execution_count": 7,
   "id": "2b041629",
   "metadata": {},
   "outputs": [
    {
     "ename": "ModuleNotFoundError",
     "evalue": "No module named 'matplotlib'",
     "output_type": "error",
     "traceback": [
      "\u001b[1;31m---------------------------------------------------------------------------\u001b[0m",
      "\u001b[1;31mModuleNotFoundError\u001b[0m                       Traceback (most recent call last)",
      "Cell \u001b[1;32mIn[7], line 1\u001b[0m\n\u001b[1;32m----> 1\u001b[0m \u001b[38;5;28;01mimport\u001b[39;00m \u001b[38;5;21;01mmatplotlib\u001b[39;00m\u001b[38;5;21;01m.\u001b[39;00m\u001b[38;5;21;01mpylot\u001b[39;00m \u001b[38;5;28;01mas\u001b[39;00m \u001b[38;5;21;01mplt\u001b[39;00m\n",
      "\u001b[1;31mModuleNotFoundError\u001b[0m: No module named 'matplotlib'"
     ]
    }
   ],
   "source": [
    "import matplotlib.pylot as plt"
   ]
  },
  {
   "cell_type": "code",
   "execution_count": null,
   "id": "7b6e1ac9",
   "metadata": {},
   "outputs": [],
   "source": []
  }
 ],
 "metadata": {
  "kernelspec": {
   "display_name": "Python 3 (ipykernel)",
   "language": "python",
   "name": "python3"
  },
  "language_info": {
   "codemirror_mode": {
    "name": "ipython",
    "version": 3
   },
   "file_extension": ".py",
   "mimetype": "text/x-python",
   "name": "python",
   "nbconvert_exporter": "python",
   "pygments_lexer": "ipython3",
   "version": "3.10.13"
  }
 },
 "nbformat": 4,
 "nbformat_minor": 5
}
