{
 "cells": [
  {
   "cell_type": "code",
   "execution_count": 42,
   "metadata": {},
   "outputs": [],
   "source": [
    "from datasets import load_dataset\n",
    "import evaluate\n",
    "dataset = load_dataset(\"glue\", \"sst2\")\n",
    "metric = evaluate.load(\"glue\", \"sst2\")"
   ]
  },
  {
   "cell_type": "code",
   "execution_count": 43,
   "metadata": {},
   "outputs": [
    {
     "name": "stderr",
     "output_type": "stream",
     "text": [
      "Some weights of T5ForSequenceClassification were not initialized from the model checkpoint at google/flan-t5-base and are newly initialized: ['classification_head.dense.bias', 'classification_head.dense.weight', 'classification_head.out_proj.weight', 'classification_head.out_proj.bias']\n",
      "You should probably TRAIN this model on a down-stream task to be able to use it for predictions and inference.\n"
     ]
    }
   ],
   "source": [
    "from transformers import AutoTokenizer\n",
    "from transformers import AutoModelForSequenceClassification, TrainingArguments, Trainer\n",
    "\n",
    "num_labels = 2\n",
    "model_checkpoint = \"google/flan-t5-base\"\n",
    "tokenizer = AutoTokenizer.from_pretrained(model_checkpoint, use_fast=True)\n",
    "model = AutoModelForSequenceClassification.from_pretrained(model_checkpoint, num_labels=num_labels)"
   ]
  },
  {
   "cell_type": "code",
   "execution_count": 44,
   "metadata": {},
   "outputs": [],
   "source": [
    "import numpy as np\n",
    "def compute_metrics(eval_pred):\n",
    "    predictions, labels = eval_pred\n",
    "    predictions = np.argmax(predictions, axis=1)\n",
    "    return metric.compute(predictions=predictions, references=labels)"
   ]
  },
  {
   "cell_type": "code",
   "execution_count": 45,
   "metadata": {},
   "outputs": [
    {
     "name": "stdout",
     "output_type": "stream",
     "text": [
      "trainable params: 3538944 || all params: 227034626 || trainable%: 1.56\n"
     ]
    }
   ],
   "source": [
    "from peft import LoraConfig, get_peft_model\n",
    "\n",
    "config = LoraConfig(\n",
    "    r=16,\n",
    "    lora_alpha=16,\n",
    "    target_modules=[\"q\",\"k\",\"v\",\"o\"],\n",
    "    lora_dropout=0.1,\n",
    "    bias=\"none\",\n",
    "    modules_to_save=[\"classifier\"],\n",
    ")\n",
    "lora_model = get_peft_model(model, config)\n",
    "\n",
    "def print_trainable_parameters(model):\n",
    "    trainable_params = 0\n",
    "    all_param = 0\n",
    "    for _, param in model.named_parameters():\n",
    "        all_param += param.numel()\n",
    "        if param.requires_grad:\n",
    "            trainable_params += param.numel()\n",
    "    print(\n",
    "        f\"trainable params: {trainable_params} || all params: {all_param} || trainable%: {100 * trainable_params / all_param:.2f}\"\n",
    "    )\n",
    "    \n",
    "print_trainable_parameters(lora_model)"
   ]
  },
  {
   "cell_type": "code",
   "execution_count": 46,
   "metadata": {},
   "outputs": [],
   "source": [
    "import os\n",
    "model_name = model_checkpoint.split(\"/\")[-1]\n",
    "batch_size = 64\n",
    "path = \"flan-t5-base-finetuned-lora-sst2\"\n",
    "if not os.path.exists(path):\n",
    "    os.makedirs(path)\n",
    "\n",
    "args = TrainingArguments(\n",
    "    \"./flan-t5-base-finetuned-lora-sst2\",\n",
    "    remove_unused_columns=False,\n",
    "    evaluation_strategy=\"epoch\",\n",
    "    save_strategy=\"epoch\",\n",
    "    learning_rate=5e-3,\n",
    "    per_device_train_batch_size=batch_size,\n",
    "    gradient_accumulation_steps=4,\n",
    "    per_device_eval_batch_size=batch_size,\n",
    "    fp16=True,\n",
    "    num_train_epochs=1,\n",
    "    logging_steps=10,\n",
    "    load_best_model_at_end=True,\n",
    "    metric_for_best_model=\"accuracy\",\n",
    ")"
   ]
  },
  {
   "cell_type": "code",
   "execution_count": 47,
   "metadata": {},
   "outputs": [
    {
     "data": {
      "application/vnd.jupyter.widget-view+json": {
       "model_id": "2895cac5f91043199675df247853ede8",
       "version_major": 2,
       "version_minor": 0
      },
      "text/plain": [
       "Map:   0%|          | 0/872 [00:00<?, ? examples/s]"
      ]
     },
     "metadata": {},
     "output_type": "display_data"
    }
   ],
   "source": [
    "def preprocess_function(examples):\n",
    "    return tokenizer(examples[\"sentence\"], truncation=True,padding=True)\n",
    "encoded_dataset = dataset.map(preprocess_function, batched=True).remove_columns([\"sentence\",\"idx\"])"
   ]
  },
  {
   "cell_type": "code",
   "execution_count": 48,
   "metadata": {},
   "outputs": [],
   "source": [
    "import torch\n",
    "# def collate_fn(examples):\n",
    "#     data = [tokenizer(example[\"sentence\"], truncation=True) for example in examples]\n",
    "#     data[\"label\"] = torch.tensor([example[\"label\"] for example in examples])\n",
    "#     return data\n",
    "\n",
    "trainer = Trainer(\n",
    "    lora_model,\n",
    "    args,\n",
    "    train_dataset=encoded_dataset[\"train\"],\n",
    "    eval_dataset=encoded_dataset[\"validation\"],\n",
    "    tokenizer=tokenizer,\n",
    "    compute_metrics=compute_metrics,\n",
    ")"
   ]
  },
  {
   "cell_type": "code",
   "execution_count": 49,
   "metadata": {},
   "outputs": [
    {
     "data": {
      "application/vnd.jupyter.widget-view+json": {
       "model_id": "75fd6f0303be4193942785e908fa83bd",
       "version_major": 2,
       "version_minor": 0
      },
      "text/plain": [
       "  0%|          | 0/526 [00:00<?, ?it/s]"
      ]
     },
     "metadata": {},
     "output_type": "display_data"
    },
    {
     "name": "stderr",
     "output_type": "stream",
     "text": [
      "You're using a T5TokenizerFast tokenizer. Please note that with a fast tokenizer, using the `__call__` method is faster than using a method to encode the text followed by a call to the `pad` method to get a padded encoding.\n"
     ]
    },
    {
     "name": "stdout",
     "output_type": "stream",
     "text": [
      "{'loss': 0.0, 'learning_rate': 0.005, 'epoch': 0.02}\n",
      "{'loss': 0.0, 'learning_rate': 0.005, 'epoch': 0.04}\n",
      "{'loss': 0.0, 'learning_rate': 0.005, 'epoch': 0.06}\n",
      "{'loss': 0.0, 'learning_rate': 0.005, 'epoch': 0.08}\n",
      "{'loss': 0.0, 'learning_rate': 0.005, 'epoch': 0.1}\n",
      "{'loss': 0.0, 'learning_rate': 0.005, 'epoch': 0.11}\n",
      "{'loss': 0.0, 'learning_rate': 0.005, 'epoch': 0.13}\n",
      "{'loss': 0.0, 'learning_rate': 0.005, 'epoch': 0.15}\n",
      "{'loss': 0.0, 'learning_rate': 0.005, 'epoch': 0.17}\n",
      "{'loss': 0.0, 'learning_rate': 0.005, 'epoch': 0.19}\n",
      "{'loss': 0.0, 'learning_rate': 0.005, 'epoch': 0.21}\n",
      "{'loss': 0.0, 'learning_rate': 0.005, 'epoch': 0.23}\n",
      "{'loss': 0.0, 'learning_rate': 0.005, 'epoch': 0.25}\n",
      "{'loss': 0.0, 'learning_rate': 0.005, 'epoch': 0.27}\n",
      "{'loss': 0.0, 'learning_rate': 0.005, 'epoch': 0.29}\n",
      "{'loss': 0.0, 'learning_rate': 0.005, 'epoch': 0.3}\n",
      "{'loss': 0.0, 'learning_rate': 0.005, 'epoch': 0.32}\n",
      "{'loss': 0.0, 'learning_rate': 0.005, 'epoch': 0.34}\n",
      "{'loss': 0.0, 'learning_rate': 0.005, 'epoch': 0.36}\n",
      "{'loss': 0.0, 'learning_rate': 0.005, 'epoch': 0.38}\n",
      "{'loss': 0.0, 'learning_rate': 0.005, 'epoch': 0.4}\n",
      "{'loss': 0.0, 'learning_rate': 0.005, 'epoch': 0.42}\n",
      "{'loss': 0.0, 'learning_rate': 0.005, 'epoch': 0.44}\n",
      "{'loss': 0.0, 'learning_rate': 0.005, 'epoch': 0.46}\n",
      "{'loss': 0.0, 'learning_rate': 0.005, 'epoch': 0.48}\n",
      "{'loss': 0.0, 'learning_rate': 0.005, 'epoch': 0.49}\n",
      "{'loss': 0.0, 'learning_rate': 0.005, 'epoch': 0.51}\n",
      "{'loss': 0.0, 'learning_rate': 0.005, 'epoch': 0.53}\n",
      "{'loss': 0.0, 'learning_rate': 0.005, 'epoch': 0.55}\n",
      "{'loss': 0.0, 'learning_rate': 0.005, 'epoch': 0.57}\n",
      "{'loss': 0.0, 'learning_rate': 0.005, 'epoch': 0.59}\n",
      "{'loss': 0.0, 'learning_rate': 0.005, 'epoch': 0.61}\n",
      "{'loss': 0.0, 'learning_rate': 0.005, 'epoch': 0.63}\n",
      "{'loss': 0.0, 'learning_rate': 0.005, 'epoch': 0.65}\n",
      "{'loss': 0.0, 'learning_rate': 0.005, 'epoch': 0.67}\n",
      "{'loss': 0.0, 'learning_rate': 0.005, 'epoch': 0.68}\n",
      "{'loss': 0.0, 'learning_rate': 0.005, 'epoch': 0.7}\n",
      "{'loss': 0.0, 'learning_rate': 0.005, 'epoch': 0.72}\n",
      "{'loss': 0.0, 'learning_rate': 0.005, 'epoch': 0.74}\n",
      "{'loss': 0.0, 'learning_rate': 0.005, 'epoch': 0.76}\n",
      "{'loss': 0.0, 'learning_rate': 0.005, 'epoch': 0.78}\n",
      "{'loss': 0.0, 'learning_rate': 0.005, 'epoch': 0.8}\n",
      "{'loss': 0.0, 'learning_rate': 0.005, 'epoch': 0.82}\n",
      "{'loss': 0.0, 'learning_rate': 0.005, 'epoch': 0.84}\n",
      "{'loss': 0.0, 'learning_rate': 0.005, 'epoch': 0.86}\n",
      "{'loss': 0.0, 'learning_rate': 0.005, 'epoch': 0.87}\n",
      "{'loss': 0.0, 'learning_rate': 0.005, 'epoch': 0.89}\n",
      "{'loss': 0.0, 'learning_rate': 0.005, 'epoch': 0.91}\n",
      "{'loss': 0.0, 'learning_rate': 0.005, 'epoch': 0.93}\n",
      "{'loss': 0.0, 'learning_rate': 0.005, 'epoch': 0.95}\n",
      "{'loss': 0.0, 'learning_rate': 0.005, 'epoch': 0.97}\n",
      "{'loss': 0.0, 'learning_rate': 0.005, 'epoch': 0.99}\n"
     ]
    },
    {
     "data": {
      "application/vnd.jupyter.widget-view+json": {
       "model_id": "72c343f1243f44069dca9a256d151842",
       "version_major": 2,
       "version_minor": 0
      },
      "text/plain": [
       "  0%|          | 0/28 [00:00<?, ?it/s]"
      ]
     },
     "metadata": {},
     "output_type": "display_data"
    },
    {
     "name": "stdout",
     "output_type": "stream",
     "text": [
      "{'eval_runtime': 2.8174, 'eval_samples_per_second': 309.504, 'eval_steps_per_second': 9.938, 'epoch': 1.0}\n"
     ]
    },
    {
     "ename": "KeyError",
     "evalue": "'eval_accuracy'",
     "output_type": "error",
     "traceback": [
      "\u001b[1;31m---------------------------------------------------------------------------\u001b[0m",
      "\u001b[1;31mKeyError\u001b[0m                                  Traceback (most recent call last)",
      "\u001b[1;32md:\\Code\\WashU\\NLP524Final\\final.ipynb 单元格 8\u001b[0m line \u001b[0;36m1\n\u001b[1;32m----> <a href='vscode-notebook-cell:/d%3A/Code/WashU/NLP524Final/final.ipynb#X10sZmlsZQ%3D%3D?line=0'>1</a>\u001b[0m train_results \u001b[39m=\u001b[39m trainer\u001b[39m.\u001b[39;49mtrain()\n",
      "File \u001b[1;32md:\\Software\\anaconda3\\envs\\LLM\\lib\\site-packages\\transformers\\trainer.py:1555\u001b[0m, in \u001b[0;36mTrainer.train\u001b[1;34m(self, resume_from_checkpoint, trial, ignore_keys_for_eval, **kwargs)\u001b[0m\n\u001b[0;32m   1553\u001b[0m         hf_hub_utils\u001b[39m.\u001b[39menable_progress_bars()\n\u001b[0;32m   1554\u001b[0m \u001b[39melse\u001b[39;00m:\n\u001b[1;32m-> 1555\u001b[0m     \u001b[39mreturn\u001b[39;00m inner_training_loop(\n\u001b[0;32m   1556\u001b[0m         args\u001b[39m=\u001b[39;49margs,\n\u001b[0;32m   1557\u001b[0m         resume_from_checkpoint\u001b[39m=\u001b[39;49mresume_from_checkpoint,\n\u001b[0;32m   1558\u001b[0m         trial\u001b[39m=\u001b[39;49mtrial,\n\u001b[0;32m   1559\u001b[0m         ignore_keys_for_eval\u001b[39m=\u001b[39;49mignore_keys_for_eval,\n\u001b[0;32m   1560\u001b[0m     )\n",
      "File \u001b[1;32md:\\Software\\anaconda3\\envs\\LLM\\lib\\site-packages\\transformers\\trainer.py:1937\u001b[0m, in \u001b[0;36mTrainer._inner_training_loop\u001b[1;34m(self, batch_size, args, resume_from_checkpoint, trial, ignore_keys_for_eval)\u001b[0m\n\u001b[0;32m   1934\u001b[0m     \u001b[39mself\u001b[39m\u001b[39m.\u001b[39mcontrol\u001b[39m.\u001b[39mshould_training_stop \u001b[39m=\u001b[39m \u001b[39mTrue\u001b[39;00m\n\u001b[0;32m   1936\u001b[0m \u001b[39mself\u001b[39m\u001b[39m.\u001b[39mcontrol \u001b[39m=\u001b[39m \u001b[39mself\u001b[39m\u001b[39m.\u001b[39mcallback_handler\u001b[39m.\u001b[39mon_epoch_end(args, \u001b[39mself\u001b[39m\u001b[39m.\u001b[39mstate, \u001b[39mself\u001b[39m\u001b[39m.\u001b[39mcontrol)\n\u001b[1;32m-> 1937\u001b[0m \u001b[39mself\u001b[39;49m\u001b[39m.\u001b[39;49m_maybe_log_save_evaluate(tr_loss, model, trial, epoch, ignore_keys_for_eval)\n\u001b[0;32m   1939\u001b[0m \u001b[39mif\u001b[39;00m DebugOption\u001b[39m.\u001b[39mTPU_METRICS_DEBUG \u001b[39min\u001b[39;00m \u001b[39mself\u001b[39m\u001b[39m.\u001b[39margs\u001b[39m.\u001b[39mdebug:\n\u001b[0;32m   1940\u001b[0m     \u001b[39mif\u001b[39;00m is_torch_tpu_available():\n\u001b[0;32m   1941\u001b[0m         \u001b[39m# tpu-comment: Logging debug metrics for PyTorch/XLA (compile, execute times, ops, etc.)\u001b[39;00m\n",
      "File \u001b[1;32md:\\Software\\anaconda3\\envs\\LLM\\lib\\site-packages\\transformers\\trainer.py:2282\u001b[0m, in \u001b[0;36mTrainer._maybe_log_save_evaluate\u001b[1;34m(self, tr_loss, model, trial, epoch, ignore_keys_for_eval)\u001b[0m\n\u001b[0;32m   2279\u001b[0m         \u001b[39mself\u001b[39m\u001b[39m.\u001b[39mlr_scheduler\u001b[39m.\u001b[39mstep(metrics[metric_to_check])\n\u001b[0;32m   2281\u001b[0m \u001b[39mif\u001b[39;00m \u001b[39mself\u001b[39m\u001b[39m.\u001b[39mcontrol\u001b[39m.\u001b[39mshould_save:\n\u001b[1;32m-> 2282\u001b[0m     \u001b[39mself\u001b[39;49m\u001b[39m.\u001b[39;49m_save_checkpoint(model, trial, metrics\u001b[39m=\u001b[39;49mmetrics)\n\u001b[0;32m   2283\u001b[0m     \u001b[39mself\u001b[39m\u001b[39m.\u001b[39mcontrol \u001b[39m=\u001b[39m \u001b[39mself\u001b[39m\u001b[39m.\u001b[39mcallback_handler\u001b[39m.\u001b[39mon_save(\u001b[39mself\u001b[39m\u001b[39m.\u001b[39margs, \u001b[39mself\u001b[39m\u001b[39m.\u001b[39mstate, \u001b[39mself\u001b[39m\u001b[39m.\u001b[39mcontrol)\n",
      "File \u001b[1;32md:\\Software\\anaconda3\\envs\\LLM\\lib\\site-packages\\transformers\\trainer.py:2407\u001b[0m, in \u001b[0;36mTrainer._save_checkpoint\u001b[1;34m(self, model, trial, metrics)\u001b[0m\n\u001b[0;32m   2405\u001b[0m \u001b[39mif\u001b[39;00m \u001b[39mnot\u001b[39;00m metric_to_check\u001b[39m.\u001b[39mstartswith(\u001b[39m\"\u001b[39m\u001b[39meval_\u001b[39m\u001b[39m\"\u001b[39m):\n\u001b[0;32m   2406\u001b[0m     metric_to_check \u001b[39m=\u001b[39m \u001b[39mf\u001b[39m\u001b[39m\"\u001b[39m\u001b[39meval_\u001b[39m\u001b[39m{\u001b[39;00mmetric_to_check\u001b[39m}\u001b[39;00m\u001b[39m\"\u001b[39m\n\u001b[1;32m-> 2407\u001b[0m metric_value \u001b[39m=\u001b[39m metrics[metric_to_check]\n\u001b[0;32m   2409\u001b[0m operator \u001b[39m=\u001b[39m np\u001b[39m.\u001b[39mgreater \u001b[39mif\u001b[39;00m \u001b[39mself\u001b[39m\u001b[39m.\u001b[39margs\u001b[39m.\u001b[39mgreater_is_better \u001b[39melse\u001b[39;00m np\u001b[39m.\u001b[39mless\n\u001b[0;32m   2410\u001b[0m \u001b[39mif\u001b[39;00m (\n\u001b[0;32m   2411\u001b[0m     \u001b[39mself\u001b[39m\u001b[39m.\u001b[39mstate\u001b[39m.\u001b[39mbest_metric \u001b[39mis\u001b[39;00m \u001b[39mNone\u001b[39;00m\n\u001b[0;32m   2412\u001b[0m     \u001b[39mor\u001b[39;00m \u001b[39mself\u001b[39m\u001b[39m.\u001b[39mstate\u001b[39m.\u001b[39mbest_model_checkpoint \u001b[39mis\u001b[39;00m \u001b[39mNone\u001b[39;00m\n\u001b[0;32m   2413\u001b[0m     \u001b[39mor\u001b[39;00m operator(metric_value, \u001b[39mself\u001b[39m\u001b[39m.\u001b[39mstate\u001b[39m.\u001b[39mbest_metric)\n\u001b[0;32m   2414\u001b[0m ):\n",
      "\u001b[1;31mKeyError\u001b[0m: 'eval_accuracy'"
     ]
    }
   ],
   "source": [
    "train_results = trainer.train()"
   ]
  },
  {
   "cell_type": "code",
   "execution_count": 50,
   "metadata": {},
   "outputs": [
    {
     "data": {
      "application/vnd.jupyter.widget-view+json": {
       "model_id": "67a718d84e134dafb977b6e651f8033d",
       "version_major": 2,
       "version_minor": 0
      },
      "text/plain": [
       "  0%|          | 0/28 [00:00<?, ?it/s]"
      ]
     },
     "metadata": {},
     "output_type": "display_data"
    },
    {
     "name": "stdout",
     "output_type": "stream",
     "text": [
      "{'eval_runtime': 2.6988, 'eval_samples_per_second': 323.112, 'eval_steps_per_second': 10.375, 'epoch': 1.0}\n"
     ]
    },
    {
     "data": {
      "text/plain": [
       "{'eval_runtime': 2.6988,\n",
       " 'eval_samples_per_second': 323.112,\n",
       " 'eval_steps_per_second': 10.375,\n",
       " 'epoch': 1.0}"
      ]
     },
     "execution_count": 50,
     "metadata": {},
     "output_type": "execute_result"
    }
   ],
   "source": [
    "trainer.evaluate()"
   ]
  },
  {
   "cell_type": "code",
   "execution_count": null,
   "metadata": {},
   "outputs": [],
   "source": []
  }
 ],
 "metadata": {
  "kernelspec": {
   "display_name": "LLM",
   "language": "python",
   "name": "python3"
  },
  "language_info": {
   "codemirror_mode": {
    "name": "ipython",
    "version": 3
   },
   "file_extension": ".py",
   "mimetype": "text/x-python",
   "name": "python",
   "nbconvert_exporter": "python",
   "pygments_lexer": "ipython3",
   "version": "3.10.13"
  }
 },
 "nbformat": 4,
 "nbformat_minor": 2
}
